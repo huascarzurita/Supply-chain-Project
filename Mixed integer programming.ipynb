{
 "cells": [
  {
   "cell_type": "markdown",
   "metadata": {},
   "source": [
    "# Problema de optimizacion para una carpinteria\n"
   ]
  },
  {
   "cell_type": "markdown",
   "metadata": {},
   "source": [
    "Se necesita optimizar la funcion de utilidad de una carpinteria la cual tiene recursos limitados.\n",
    "Para la elaboracion de los muebles se debe tomar en cuenta dos tipos de de trabajo: Carpinteria y y acabado.\n",
    "Cada restriccion va a variar de acuerdo al mueble producido (sillas o mesas).\n",
    "\n",
    "x1 = variable de sillas\n",
    "x2 = variable de mesas\n",
    "\n",
    "Funcion de utilidad a maximizar: 20x1+30x2\n",
    "Restriccion de horas de acabado: x1+2x2 <=100\n",
    "Restriccion de horas de carpinteria: 2x1+x2 <=100"
   ]
  },
  {
   "cell_type": "code",
   "execution_count": 69,
   "metadata": {},
   "outputs": [
    {
     "data": {
      "text/plain": [
       "Utilidad:\n",
       "MAXIMIZE\n",
       "20*x1 + 30*x2 + 0\n",
       "SUBJECT TO\n",
       "_C1: x1 + 2 x2 <= 100\n",
       "\n",
       "_C2: 2 x1 + x2 <= 100\n",
       "\n",
       "VARIABLES\n",
       "0 <= x1 Integer\n",
       "0 <= x2 Integer"
      ]
     },
     "execution_count": 69,
     "metadata": {},
     "output_type": "execute_result"
    }
   ],
   "source": [
    "from pulp import *\n",
    "from matplotlib import*\n",
    "\n",
    "prob = LpProblem(\"Utilidad\",LpMaximize) #creacion del problema de maximizacion en prog. lineal.\n",
    "\n",
    "x1 = LpVariable(\"x1\", lowBound=0, cat ='Integer') # creacion de la variable mueble silla X1 >=0 (entero)\n",
    "x2 = LpVariable(\"x2\", lowBound=0, cat ='Integer') #creacion de la variable mueble mesa x2 >=0 (entero)\n",
    "\n",
    "\n",
    "\n",
    "prob += 20*x1 + 30*x2 # Funcion objetivo (Funcion de utilidad) \n",
    "prob += 1*x1 + 2*x2 <= 100 # Restriccion de horas de acabado disponibles\n",
    "prob += 2*x1 + 1*x2  <= 100 # Restriccion de horas de carpinteria disponibles\n",
    "prob\n"
   ]
  },
  {
   "cell_type": "code",
   "execution_count": 70,
   "metadata": {},
   "outputs": [
    {
     "data": {
      "text/plain": [
       "'Optimal'"
      ]
     },
     "execution_count": 70,
     "metadata": {},
     "output_type": "execute_result"
    }
   ],
   "source": [
    "status = prob.solve()\n",
    "LpStatus[status]\n"
   ]
  },
  {
   "cell_type": "code",
   "execution_count": 71,
   "metadata": {},
   "outputs": [
    {
     "data": {
      "text/plain": [
       "(32.0, 34.0, 1660.0)"
      ]
     },
     "execution_count": 71,
     "metadata": {},
     "output_type": "execute_result"
    }
   ],
   "source": [
    "value(x1), value(x2), value(prob.objective) # ver los parametros de la solucion, "
   ]
  },
  {
   "cell_type": "markdown",
   "metadata": {},
   "source": [
    "Se configuro al programa para que de resultados enteros debido a que las sillas y mesas no pueden ser variables continuas.\n",
    "Los resutlados optimos son: 32 silas, 34 mesas y como utilidad maxima se tiene 1660 unidades monetarias."
   ]
  }
 ],
 "metadata": {
  "kernelspec": {
   "display_name": "Python 3",
   "language": "python",
   "name": "python3"
  },
  "language_info": {
   "codemirror_mode": {
    "name": "ipython",
    "version": 3
   },
   "file_extension": ".py",
   "mimetype": "text/x-python",
   "name": "python",
   "nbconvert_exporter": "python",
   "pygments_lexer": "ipython3",
   "version": "3.7.3"
  }
 },
 "nbformat": 4,
 "nbformat_minor": 2
}
